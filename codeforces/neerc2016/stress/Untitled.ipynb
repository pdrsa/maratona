{
 "cells": [
  {
   "cell_type": "code",
   "execution_count": 5,
   "metadata": {},
   "outputs": [],
   "source": [
    "f = open(\"fygon.in\", \"r\")\n",
    "lines = f.readlines()"
   ]
  },
  {
   "cell_type": "code",
   "execution_count": 26,
   "metadata": {},
   "outputs": [
    {
     "data": {
      "text/plain": [
       "'j'"
      ]
     },
     "execution_count": 26,
     "metadata": {},
     "output_type": "execute_result"
    }
   ],
   "source": [
    "lines[1][1*4 + 4]"
   ]
  },
  {
   "cell_type": "code",
   "execution_count": 50,
   "metadata": {},
   "outputs": [
    {
     "name": "stdout",
     "output_type": "stream",
     "text": [
      "{'$': 1, 'n': 10}\n",
      "[['$', '$', '$', '$', '$', '$'], ['$', '$', '$', '$', '$', '$'], ['$', '$', '$', '$', '$', '$'], ['$', '$', '$', '$', '$', '$'], ['$', '$', '$', '$', '$', '$'], ['$', '$', '$', '$', '$', '$']]\n",
      "{'$': 0, 'n': 10, 'i': 1}\n",
      "[['i', 'n', '$', '$', '$', '$'], ['$', '$', '$', '$', '$', '$'], ['$', '$', '$', '$', '$', '$'], ['$', '$', '$', '$', '$', '$'], ['$', '$', '$', '$', '$', '$'], ['$', '$', '$', '$', '$', '$']]\n",
      "{'$': 0, 'n': 10, 'i': 1, 'f': 1}\n",
      "[['f', 'i', '$', '$', '$', '$'], ['$', '$', '$', '$', '$', '$'], ['$', '$', '$', '$', '$', '$'], ['$', '$', '$', '$', '$', '$'], ['$', '$', '$', '$', '$', '$'], ['$', '$', '$', '$', '$', '$']]\n",
      "Aumentei\n",
      "{'$': 0, 'n': 10, 'i': 1, 'f': 0}\n",
      "[['f', 'i', '$', '$', '$', '$'], ['$', '$', '$', '$', '$', '$'], ['$', '$', '$', '$', '$', '$'], ['$', '$', '$', '$', '$', '$'], ['$', '$', '$', '$', '$', '$'], ['$', '$', '$', '$', '$', '$']]\n",
      "{'$': 0, 'n': 10, 'i': 1, 'f': 0, 'x': 1, '5': 1}\n",
      "[['x', '5', '$', '$', '$', '$'], ['$', '$', '$', '$', '$', '$'], ['$', '$', '$', '$', '$', '$'], ['$', '$', '$', '$', '$', '$'], ['$', '$', '$', '$', '$', '$'], ['$', '$', '$', '$', '$', '$']]\n",
      "{'$': 0, 'n': 10, 'i': 1, 'f': 1, 'x': 0, '5': 1}\n",
      "[['f', 'n', '$', '$', '$', '$'], ['$', '$', '$', '$', '$', '$'], ['$', '$', '$', '$', '$', '$'], ['$', '$', '$', '$', '$', '$'], ['$', '$', '$', '$', '$', '$'], ['$', '$', '$', '$', '$', '$']]\n",
      "{'$': 0, 'n': 10, 'i': 1, 'f': 0, 'x': 0, '5': 1, ' ': 1}\n",
      "[[' ', 'n', '$', '$', '$', '$'], ['$', '$', '$', '$', '$', '$'], ['$', '$', '$', '$', '$', '$'], ['$', '$', '$', '$', '$', '$'], ['$', '$', '$', '$', '$', '$'], ['$', '$', '$', '$', '$', '$']]\n",
      "Aumentei\n",
      "{'$': 0, 'n': 10, 'i': 1, 'f': 0, 'x': 0, '5': 1, ' ': 0}\n",
      "[[' ', 'n', '$', '$', '$', '$'], ['$', '$', '$', '$', '$', '$'], ['$', '$', '$', '$', '$', '$'], ['$', '$', '$', '$', '$', '$'], ['$', '$', '$', '$', '$', '$'], ['$', '$', '$', '$', '$', '$']]\n",
      "Aumentei\n",
      "0\n"
     ]
    }
   ],
   "source": [
    "answer = 0\n",
    "mList = []\n",
    "mult  = 1\n",
    "\n",
    "val      = {}\n",
    "val[\"$\"] = 1\n",
    "val[\"n\"] = 10\n",
    "dv       = [[\"$\",\"$\",\"$\",\"$\",\"$\",\"$\"] for i in range(6)]\n",
    "depth = 0\n",
    "\n",
    "nLags = 0\n",
    "for line in lines:\n",
    "    # Calculating return\n",
    "    while(line[:4*depth] != \" \"*4*depth): depth -= 1\n",
    "    # Compute answers\n",
    "    if(depth == 0):\n",
    "        print(val)\n",
    "        print(dv)\n",
    "        for val[dv[0][0]] in range(val[dv[0][0]]):\n",
    "            for val[dv[1][0]] in range(val[dv[1][1]]):\n",
    "                for val[dv[2][0]] in range(val[dv[2][1]]):\n",
    "                    for val[dv[3][0]] in range(val[dv[3][1]]):\n",
    "                        for val[dv[4][0]] in range(val[dv[4][1]]):\n",
    "                            for val[dv[5][0]] in range(val[dv[5][1]]):\n",
    "                                answer += nLags               \n",
    "        nLags = 0\n",
    "\n",
    "    if(line.find('lag') != -1):\n",
    "        nLags += 1\n",
    "        print(\"Aumentei\")\n",
    "        continue\n",
    "    \n",
    "    dv[depth][0]      = line[depth*4+4]\n",
    "    dv[depth][1]      = line[-4]\n",
    "    if(dv[depth][0] != \"n\"): val[dv[depth][0]] = 1\n",
    "    if(dv[depth][1] != \"n\"): val[dv[depth][1]] = 1\n",
    "    \n",
    "for val[dv[0][0]] in range(val[dv[0][0]]):\n",
    "    for val[dv[1][0]] in range(val[dv[1][1]]):\n",
    "        for val[dv[2][0]] in range(val[dv[2][1]]):\n",
    "            for val[dv[3][0]] in range(val[dv[3][1]]):\n",
    "                for val[dv[4][0]] in range(val[dv[4][1]]):\n",
    "                    for val[dv[5][0]] in range(val[dv[5][1]]):\n",
    "                        answer += nLags\n",
    "                        \n",
    "print(answer)"
   ]
  }
 ],
 "metadata": {
  "kernelspec": {
   "display_name": "Python 3",
   "language": "python",
   "name": "python3"
  },
  "language_info": {
   "codemirror_mode": {
    "name": "ipython",
    "version": 3
   },
   "file_extension": ".py",
   "mimetype": "text/x-python",
   "name": "python",
   "nbconvert_exporter": "python",
   "pygments_lexer": "ipython3",
   "version": "3.8.5"
  }
 },
 "nbformat": 4,
 "nbformat_minor": 4
}
